{
 "cells": [
  {
   "cell_type": "code",
   "execution_count": 1,
   "id": "61f8a551-39d4-4518-bc8e-ba2d5ae2d6c7",
   "metadata": {},
   "outputs": [
    {
     "name": "stderr",
     "output_type": "stream",
     "text": [
      "22/06/23 09:40:00 WARN Utils: Your hostname, jgh-C7H61 resolves to a loopback address: 127.0.1.1; using 132.206.106.222 instead (on interface enp2s0)\n",
      "22/06/23 09:40:00 WARN Utils: Set SPARK_LOCAL_IP if you need to bind to another address\n",
      "WARNING: An illegal reflective access operation has occurred\n",
      "WARNING: Illegal reflective access by org.apache.spark.unsafe.Platform (file:/home/tim/anaconda3/lib/python3.9/site-packages/pyspark/jars/spark-unsafe_2.12-3.0.0.jar) to constructor java.nio.DirectByteBuffer(long,int)\n",
      "WARNING: Please consider reporting this to the maintainers of org.apache.spark.unsafe.Platform\n",
      "WARNING: Use --illegal-access=warn to enable warnings of further illegal reflective access operations\n",
      "WARNING: All illegal access operations will be denied in a future release\n",
      "22/06/23 09:40:01 WARN NativeCodeLoader: Unable to load native-hadoop library for your platform... using builtin-java classes where applicable\n",
      "Using Spark's default log4j profile: org/apache/spark/log4j-defaults.properties\n",
      "Setting default log level to \"WARN\".\n",
      "To adjust logging level use sc.setLogLevel(newLevel). For SparkR, use setLogLevel(newLevel).\n",
      "22/06/23 09:40:02 WARN Utils: Service 'SparkUI' could not bind on port 4040. Attempting port 4041.\n",
      "22/06/23 09:40:02 WARN Utils: Service 'SparkUI' could not bind on port 4041. Attempting port 4042.\n",
      "22/06/23 09:40:02 WARN Utils: Service 'SparkUI' could not bind on port 4042. Attempting port 4043.\n",
      "22/06/23 09:40:02 WARN Utils: Service 'SparkUI' could not bind on port 4043. Attempting port 4044.\n"
     ]
    },
    {
     "data": {
      "text/plain": [
       "'3.0.0'"
      ]
     },
     "execution_count": 1,
     "metadata": {},
     "output_type": "execute_result"
    }
   ],
   "source": [
    "#from pyspark import SparkContext, SparkConf\n",
    "#from pyspark.sql import SparkSession\n",
    "import warnings\n",
    "warnings.filterwarnings('ignore')\n",
    "from pyspark import SparkContext, SparkConf\n",
    "from pyspark.sql import SparkSession\n",
    "sc =SparkContext()\n",
    "# to retrieve SparkContext version\n",
    "sc.version"
   ]
  },
  {
   "cell_type": "code",
   "execution_count": 2,
   "id": "8081a74b-1d93-45ac-a453-573dffe5a607",
   "metadata": {},
   "outputs": [],
   "source": [
    "rdd = sc.parallelize(range(100))"
   ]
  },
  {
   "cell_type": "code",
   "execution_count": 3,
   "id": "f033aa33-9924-46e5-957d-e827a4cb6ef6",
   "metadata": {},
   "outputs": [
    {
     "name": "stderr",
     "output_type": "stream",
     "text": [
      "                                                                                \r"
     ]
    },
    {
     "data": {
      "text/plain": [
       "[0,\n",
       " 1,\n",
       " 2,\n",
       " 3,\n",
       " 4,\n",
       " 5,\n",
       " 6,\n",
       " 7,\n",
       " 8,\n",
       " 9,\n",
       " 10,\n",
       " 11,\n",
       " 12,\n",
       " 13,\n",
       " 14,\n",
       " 15,\n",
       " 16,\n",
       " 17,\n",
       " 18,\n",
       " 19,\n",
       " 20,\n",
       " 21,\n",
       " 22,\n",
       " 23,\n",
       " 24,\n",
       " 25,\n",
       " 26,\n",
       " 27,\n",
       " 28,\n",
       " 29,\n",
       " 30,\n",
       " 31,\n",
       " 32,\n",
       " 33,\n",
       " 34,\n",
       " 35,\n",
       " 36,\n",
       " 37,\n",
       " 38,\n",
       " 39,\n",
       " 40,\n",
       " 41,\n",
       " 42,\n",
       " 43,\n",
       " 44,\n",
       " 45,\n",
       " 46,\n",
       " 47,\n",
       " 48,\n",
       " 49,\n",
       " 50,\n",
       " 51,\n",
       " 52,\n",
       " 53,\n",
       " 54,\n",
       " 55,\n",
       " 56,\n",
       " 57,\n",
       " 58,\n",
       " 59,\n",
       " 60,\n",
       " 61,\n",
       " 62,\n",
       " 63,\n",
       " 64,\n",
       " 65,\n",
       " 66,\n",
       " 67,\n",
       " 68,\n",
       " 69,\n",
       " 70,\n",
       " 71,\n",
       " 72,\n",
       " 73,\n",
       " 74,\n",
       " 75,\n",
       " 76,\n",
       " 77,\n",
       " 78,\n",
       " 79,\n",
       " 80,\n",
       " 81,\n",
       " 82,\n",
       " 83,\n",
       " 84,\n",
       " 85,\n",
       " 86,\n",
       " 87,\n",
       " 88,\n",
       " 89,\n",
       " 90,\n",
       " 91,\n",
       " 92,\n",
       " 93,\n",
       " 94,\n",
       " 95,\n",
       " 96,\n",
       " 97,\n",
       " 98,\n",
       " 99]"
      ]
     },
     "execution_count": 3,
     "metadata": {},
     "output_type": "execute_result"
    }
   ],
   "source": [
    "rdd.collect() #<-- sorts the list"
   ]
  },
  {
   "cell_type": "code",
   "execution_count": 4,
   "id": "ecd7e0d9-10cd-400e-aee7-51666ddeeb14",
   "metadata": {},
   "outputs": [
    {
     "data": {
      "text/plain": [
       "[0,\n",
       " 1,\n",
       " 2,\n",
       " 3,\n",
       " 4,\n",
       " 5,\n",
       " 6,\n",
       " 7,\n",
       " 8,\n",
       " 9,\n",
       " 10,\n",
       " 11,\n",
       " 12,\n",
       " 13,\n",
       " 14,\n",
       " 15,\n",
       " 16,\n",
       " 17,\n",
       " 18,\n",
       " 19,\n",
       " 20,\n",
       " 21,\n",
       " 22,\n",
       " 23,\n",
       " 24,\n",
       " 25,\n",
       " 26,\n",
       " 27,\n",
       " 28,\n",
       " 29,\n",
       " 30,\n",
       " 31,\n",
       " 32,\n",
       " 33,\n",
       " 34,\n",
       " 35,\n",
       " 36,\n",
       " 37,\n",
       " 38,\n",
       " 39,\n",
       " 40,\n",
       " 41,\n",
       " 42,\n",
       " 43,\n",
       " 44,\n",
       " 45,\n",
       " 46,\n",
       " 47,\n",
       " 48,\n",
       " 49,\n",
       " 50,\n",
       " 51,\n",
       " 52,\n",
       " 53,\n",
       " 54,\n",
       " 55,\n",
       " 56,\n",
       " 57,\n",
       " 58,\n",
       " 59,\n",
       " 60,\n",
       " 61,\n",
       " 62,\n",
       " 63,\n",
       " 64,\n",
       " 65,\n",
       " 66,\n",
       " 67,\n",
       " 68,\n",
       " 69,\n",
       " 70,\n",
       " 71,\n",
       " 72,\n",
       " 73,\n",
       " 74,\n",
       " 75,\n",
       " 76,\n",
       " 77,\n",
       " 78,\n",
       " 79,\n",
       " 80,\n",
       " 81,\n",
       " 82,\n",
       " 83,\n",
       " 84,\n",
       " 85,\n",
       " 86,\n",
       " 87,\n",
       " 88,\n",
       " 89,\n",
       " 90,\n",
       " 91,\n",
       " 92,\n",
       " 93,\n",
       " 94,\n",
       " 95,\n",
       " 96,\n",
       " 97,\n",
       " 98,\n",
       " 99]"
      ]
     },
     "execution_count": 4,
     "metadata": {},
     "output_type": "execute_result"
    }
   ],
   "source": [
    "rdd.sortBy(lambda x:x).collect()"
   ]
  },
  {
   "cell_type": "code",
   "execution_count": 5,
   "id": "f6a83d5d-f1dc-421d-a0cd-3ba7be81d9c6",
   "metadata": {},
   "outputs": [
    {
     "name": "stdout",
     "output_type": "stream",
     "text": [
      "49.5\n"
     ]
    }
   ],
   "source": [
    "sumrdd = rdd.sum()\n",
    "n = rdd.count()\n",
    "mean = sumrdd/float(n)  #<-- find mean\n",
    "print (mean)"
   ]
  },
  {
   "cell_type": "code",
   "execution_count": 6,
   "id": "bda42197-c8db-40a8-8fd9-04a3f2ff0ef3",
   "metadata": {},
   "outputs": [
    {
     "data": {
      "text/plain": [
       "28.86607004772212"
      ]
     },
     "execution_count": 6,
     "metadata": {},
     "output_type": "execute_result"
    }
   ],
   "source": [
    "from math import sqrt\n",
    "sd = sqrt(rdd.map(lambda x: pow(x-mean,2)).sum()/n)\n",
    "sd"
   ]
  },
  {
   "cell_type": "code",
   "execution_count": 7,
   "id": "1e33424b-d1ba-4d9c-9679-c8be464c3078",
   "metadata": {},
   "outputs": [
    {
     "data": {
      "text/plain": [
       "7036874417766400.0"
      ]
     },
     "execution_count": 7,
     "metadata": {},
     "output_type": "execute_result"
    }
   ],
   "source": [
    "n = float(n)\n",
    "skewness = n/rdd.map(lambda x: pow(x-mean,3)/pow(sd,3)).sum()\n",
    "skewness"
   ]
  },
  {
   "cell_type": "code",
   "execution_count": 8,
   "id": "c36a355e-173b-4aca-b4d3-fabc3b697174",
   "metadata": {},
   "outputs": [
    {
     "data": {
      "text/plain": [
       "179.97599759975998"
      ]
     },
     "execution_count": 8,
     "metadata": {},
     "output_type": "execute_result"
    }
   ],
   "source": [
    "kurtosis = rdd.map(lambda x : pow (x-mean,4)/pow(sd,4)).sum()\n",
    "kurtosis"
   ]
  },
  {
   "cell_type": "code",
   "execution_count": 10,
   "id": "bbe295f5-0318-4091-beee-f788682dba55",
   "metadata": {},
   "outputs": [],
   "source": [
    "test = [1,2,3,5,34,1,32,4,34,2,1,3]"
   ]
  },
  {
   "cell_type": "code",
   "execution_count": 11,
   "id": "d890b4de-0a06-47e0-bfe8-7230e081cec4",
   "metadata": {},
   "outputs": [
    {
     "name": "stdout",
     "output_type": "stream",
     "text": [
      "10.166666666666666\n"
     ]
    }
   ],
   "source": [
    "import statistics\n",
    "#statistics.mean(test)\n",
    "\n",
    "rdd = sc.parallelize(test)\n",
    "sumrdd = rdd.sum()\n",
    "n = rdd.count()\n",
    "mean = sumrdd/float(n)  #<-- find mean\n",
    "print (mean)"
   ]
  },
  {
   "cell_type": "code",
   "execution_count": 12,
   "id": "2d05ae41-5d34-445f-a88e-6c80603ea48b",
   "metadata": {},
   "outputs": [
    {
     "data": {
      "text/plain": [
       "3.0"
      ]
     },
     "execution_count": 12,
     "metadata": {},
     "output_type": "execute_result"
    }
   ],
   "source": [
    "statistics.median(test)"
   ]
  },
  {
   "cell_type": "code",
   "execution_count": 13,
   "id": "95834f50-f515-4059-8612-b95f06ef320a",
   "metadata": {},
   "outputs": [],
   "source": [
    "test2 = [32,1,23,4,3,3,12,4,3,1]"
   ]
  },
  {
   "cell_type": "code",
   "execution_count": 14,
   "id": "0f9c30de-80fc-4cd2-b9f1-0709c183c8b4",
   "metadata": {},
   "outputs": [
    {
     "data": {
      "text/plain": [
       "10.637460014287036"
      ]
     },
     "execution_count": 14,
     "metadata": {},
     "output_type": "execute_result"
    }
   ],
   "source": [
    "statistics.stdev(test2)"
   ]
  },
  {
   "cell_type": "code",
   "execution_count": 15,
   "id": "65a30506-ba92-4e91-825e-9c6d01df270d",
   "metadata": {},
   "outputs": [],
   "source": [
    "test3 = [34,1,23,4,3,3,12,4,3,1]"
   ]
  },
  {
   "cell_type": "code",
   "execution_count": 16,
   "id": "c9c91c14-d0f9-4d73-afa2-bbc5051798e6",
   "metadata": {},
   "outputs": [
    {
     "data": {
      "text/plain": [
       "1.4549069329913997"
      ]
     },
     "execution_count": 16,
     "metadata": {},
     "output_type": "execute_result"
    }
   ],
   "source": [
    "import numpy as np\n",
    "from scipy.stats import kurtosis, skew\n",
    "\n",
    "skewness2 = skew(test3)\n",
    "skewness2"
   ]
  },
  {
   "cell_type": "code",
   "execution_count": 17,
   "id": "284f7ea5-9a47-49bd-ad7b-a76a9e92cd0d",
   "metadata": {},
   "outputs": [
    {
     "data": {
      "text/plain": [
       "0.663124005193275"
      ]
     },
     "execution_count": 17,
     "metadata": {},
     "output_type": "execute_result"
    }
   ],
   "source": [
    "kurt2 = kurtosis (test3)\n",
    "kurt2"
   ]
  },
  {
   "cell_type": "code",
   "execution_count": 18,
   "id": "34554f06-e4ba-44b6-84c9-f8700f9aa17d",
   "metadata": {},
   "outputs": [],
   "source": [
    "rddX = sc.parallelize(range(100))\n",
    "rddY = sc.parallelize(range(100))"
   ]
  },
  {
   "cell_type": "code",
   "execution_count": 19,
   "id": "c28e390a-6a81-4e14-993a-4d9176d13702",
   "metadata": {},
   "outputs": [
    {
     "name": "stdout",
     "output_type": "stream",
     "text": [
      "49.5\n",
      "49.5\n"
     ]
    }
   ],
   "source": [
    "meanX = rddX.sum()/float(rddX.count())\n",
    "meanY = rddY.sum()/float(rddY.count())\n",
    "print(meanX)\n",
    "print(meanY)"
   ]
  },
  {
   "cell_type": "code",
   "execution_count": 34,
   "id": "20512aa4-57e5-45f8-afd0-4b0b18bb3309",
   "metadata": {},
   "outputs": [],
   "source": [
    "#COVARIANCE\n",
    "#rddXY = rddX.zip(rddY)\n",
    "#covXY = rddXY.map(lambda x,y : (x-meanX)*(y-meanY)).sum()/float(rddXY.count())\n",
    "\n",
    "#sum((a - meanX) * (b - meanX) for (a,b) in zip(rddX,rddY)) / len(rddX)\n",
    "\n",
    "#correlation, p_value = scipy.stats.pearsonr(rddX, rddY)\n",
    "#correlation"
   ]
  },
  {
   "cell_type": "code",
   "execution_count": 24,
   "id": "da7603fc-3fcc-4824-a428-bd13b81912ac",
   "metadata": {},
   "outputs": [
    {
     "name": "stdout",
     "output_type": "stream",
     "text": [
      "5.5\n",
      "6.7\n"
     ]
    },
    {
     "data": {
      "text/plain": [
       "3.65"
      ]
     },
     "execution_count": 24,
     "metadata": {},
     "output_type": "execute_result"
    }
   ],
   "source": [
    "#COVARIANCE\n",
    "X = [1,2,3,4,5,6,7,8,9,10]\n",
    "Y = [7,6,5,4,5,6,7,8,9,10]\n",
    "\n",
    "meanX = statistics.mean(X)\n",
    "meanY = statistics.mean(Y)\n",
    "print(meanX)\n",
    "print(meanY)\n",
    "sumX = sum(X)\n",
    "sum((a - meanX) * (b - meanX) for (a,b) in zip(X,Y)) / len(X)"
   ]
  },
  {
   "cell_type": "code",
   "execution_count": 32,
   "id": "a4778cae-e3a6-4961-842d-dd4db1ea428a",
   "metadata": {},
   "outputs": [
    {
     "data": {
      "text/plain": [
       "0.709272912083725"
      ]
     },
     "execution_count": 32,
     "metadata": {},
     "output_type": "execute_result"
    }
   ],
   "source": [
    "import statistics\n",
    "\n",
    "x = [1,2,3,4,5,6,7,8,9,10]\n",
    "y = [7,6,5,4,5,6,7,8,9,10]\n",
    "\n",
    "correlation, p_value = scipy.stats.pearsonr(x, y)\n",
    "correlation"
   ]
  },
  {
   "cell_type": "code",
   "execution_count": null,
   "id": "1faeb707-e6ac-4b56-8255-55ce3fd23e12",
   "metadata": {},
   "outputs": [],
   "source": []
  }
 ],
 "metadata": {
  "kernelspec": {
   "display_name": "Python 2",
   "language": "python",
   "name": "python2"
  },
  "language_info": {
   "codemirror_mode": {
    "name": "ipython",
    "version": 3
   },
   "file_extension": ".py",
   "mimetype": "text/x-python",
   "name": "python",
   "nbconvert_exporter": "python",
   "pygments_lexer": "ipython3",
   "version": "3.9.12"
  }
 },
 "nbformat": 4,
 "nbformat_minor": 5
}
